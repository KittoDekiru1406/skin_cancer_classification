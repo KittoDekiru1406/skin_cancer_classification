{
 "cells": [
  {
   "cell_type": "markdown",
   "metadata": {
    "_uuid": "b6b7dc30b57234cecf46dbee5458a4554ef11cb0"
   },
   "source": [
    "# Skin Cancer Detencion\n",
    "\n",
    "\n",
    "Training of neural networks for automated diagnosis of pigmented skin lesions is hampered by the small size and lack of diversity of available dataset of dermatoscopic images. We tackle this problem by releasing the HAM10000 (\"Human Against Machine with 10000 training images\") dataset. We collected dermatoscopic images from different populations, acquired and stored by different modalities. The final dataset consists of 10015 dermatoscopic images which can serve as a training set for academic machine learning purposes. Cases include a representative collection of all important diagnostic categories in the realm of pigmented lesions: Actinic keratoses and intraepithelial carcinoma / Bowen's disease (akiec), basal cell carcinoma (bcc), benign keratosis-like lesions (solar lentigines / seborrheic keratoses and lichen-planus like keratoses, bkl), dermatofibroma (df), melanoma (mel), melanocytic nevi (nv) and vascular lesions (angiomas, angiokeratomas, pyogenic granulomas and hemorrhage, vasc).\n",
    "\n",
    "More than 50% of lesions are confirmed through histopathology (histo), the ground truth for the rest of the cases is either follow-up examination (follow_up), expert consensus (consensus), or confirmation by in-vivo confocal microscopy (confocal). The dataset includes lesions with multiple images, which can be tracked by the lesion_id-column within the HAM10000_metadata file.\n",
    "\n",
    "![skin cancer](http://www.justscience.in/wp-content/uploads/2017/12/what-causes-skin-cancer.jpg)\n",
    "\n",
    "\n",
    "\n"
   ]
  },
  {
   "cell_type": "code",
   "execution_count": null,
   "metadata": {
    "_cell_guid": "b1076dfc-b9ad-4769-8c92-a6c4dae69d19",
    "_uuid": "8f2839f25d086af736a60e9eeb907d3b93b6e0e5",
    "execution": {
     "iopub.execute_input": "2025-08-03T01:04:01.617244Z",
     "iopub.status.busy": "2025-08-03T01:04:01.616769Z",
     "iopub.status.idle": "2025-08-03T01:04:01.636306Z",
     "shell.execute_reply": "2025-08-03T01:04:01.635375Z",
     "shell.execute_reply.started": "2025-08-03T01:04:01.617221Z"
    },
    "trusted": true
   },
   "outputs": [
    {
     "ename": "NameError",
     "evalue": "name 'torch' is not defined",
     "output_type": "error",
     "traceback": [
      "\u001b[0;31m---------------------------------------------------------------------------\u001b[0m",
      "\u001b[0;31mNameError\u001b[0m                                 Traceback (most recent call last)",
      "\u001b[0;32m/tmp/ipykernel_36/558056894.py\u001b[0m in \u001b[0;36m<cell line: 0>\u001b[0;34m()\u001b[0m\n\u001b[1;32m      1\u001b[0m \u001b[0;32mfrom\u001b[0m \u001b[0mfastai\u001b[0m \u001b[0;32mimport\u001b[0m \u001b[0;34m*\u001b[0m\u001b[0;34m\u001b[0m\u001b[0;34m\u001b[0m\u001b[0m\n\u001b[1;32m      2\u001b[0m \u001b[0;32mfrom\u001b[0m \u001b[0mfastai\u001b[0m\u001b[0;34m.\u001b[0m\u001b[0mvision\u001b[0m \u001b[0;32mimport\u001b[0m \u001b[0;34m*\u001b[0m\u001b[0;34m\u001b[0m\u001b[0;34m\u001b[0m\u001b[0m\n\u001b[0;32m----> 3\u001b[0;31m \u001b[0;32mfrom\u001b[0m \u001b[0mfastai\u001b[0m\u001b[0;34m.\u001b[0m\u001b[0mcallbacks\u001b[0m\u001b[0;34m.\u001b[0m\u001b[0mhooks\u001b[0m \u001b[0;32mimport\u001b[0m \u001b[0;34m*\u001b[0m\u001b[0;34m\u001b[0m\u001b[0;34m\u001b[0m\u001b[0m\n\u001b[0m\u001b[1;32m      4\u001b[0m \u001b[0;34m\u001b[0m\u001b[0m\n\u001b[1;32m      5\u001b[0m \u001b[0;32mimport\u001b[0m \u001b[0mnumpy\u001b[0m \u001b[0;32mas\u001b[0m \u001b[0mnp\u001b[0m\u001b[0;34m\u001b[0m\u001b[0;34m\u001b[0m\u001b[0m\n",
      "\u001b[0;32m/usr/local/lib/python3.11/dist-packages/fastai/callbacks/__init__.py\u001b[0m in \u001b[0;36m<module>\u001b[0;34m\u001b[0m\n\u001b[0;32m----> 1\u001b[0;31m \u001b[0;32mfrom\u001b[0m \u001b[0;34m.\u001b[0m\u001b[0mlr_finder\u001b[0m \u001b[0;32mimport\u001b[0m \u001b[0;34m*\u001b[0m\u001b[0;34m\u001b[0m\u001b[0;34m\u001b[0m\u001b[0m\n\u001b[0m\u001b[1;32m      2\u001b[0m \u001b[0;32mfrom\u001b[0m \u001b[0;34m.\u001b[0m\u001b[0mone_cycle\u001b[0m \u001b[0;32mimport\u001b[0m \u001b[0;34m*\u001b[0m\u001b[0;34m\u001b[0m\u001b[0;34m\u001b[0m\u001b[0m\n\u001b[1;32m      3\u001b[0m \u001b[0;32mfrom\u001b[0m \u001b[0;34m.\u001b[0m\u001b[0mfp16\u001b[0m \u001b[0;32mimport\u001b[0m \u001b[0;34m*\u001b[0m\u001b[0;34m\u001b[0m\u001b[0;34m\u001b[0m\u001b[0m\n\u001b[1;32m      4\u001b[0m \u001b[0;32mfrom\u001b[0m \u001b[0;34m.\u001b[0m\u001b[0mgeneral_sched\u001b[0m \u001b[0;32mimport\u001b[0m \u001b[0;34m*\u001b[0m\u001b[0;34m\u001b[0m\u001b[0;34m\u001b[0m\u001b[0m\n\u001b[1;32m      5\u001b[0m \u001b[0;32mfrom\u001b[0m \u001b[0;34m.\u001b[0m\u001b[0mhooks\u001b[0m \u001b[0;32mimport\u001b[0m \u001b[0;34m*\u001b[0m\u001b[0;34m\u001b[0m\u001b[0;34m\u001b[0m\u001b[0m\n",
      "\u001b[0;32m/usr/local/lib/python3.11/dist-packages/fastai/callbacks/lr_finder.py\u001b[0m in \u001b[0;36m<module>\u001b[0;34m\u001b[0m\n\u001b[1;32m      1\u001b[0m \u001b[0;34m\"Tools to help find the optimal learning rate for training\"\u001b[0m\u001b[0;34m\u001b[0m\u001b[0;34m\u001b[0m\u001b[0m\n\u001b[1;32m      2\u001b[0m \u001b[0;32mfrom\u001b[0m \u001b[0;34m.\u001b[0m\u001b[0;34m.\u001b[0m\u001b[0mtorch_core\u001b[0m \u001b[0;32mimport\u001b[0m \u001b[0;34m*\u001b[0m\u001b[0;34m\u001b[0m\u001b[0;34m\u001b[0m\u001b[0m\n\u001b[0;32m----> 3\u001b[0;31m \u001b[0;32mfrom\u001b[0m \u001b[0;34m.\u001b[0m\u001b[0;34m.\u001b[0m\u001b[0mbasic_data\u001b[0m \u001b[0;32mimport\u001b[0m \u001b[0mDataBunch\u001b[0m\u001b[0;34m\u001b[0m\u001b[0;34m\u001b[0m\u001b[0m\n\u001b[0m\u001b[1;32m      4\u001b[0m \u001b[0;32mfrom\u001b[0m \u001b[0;34m.\u001b[0m\u001b[0;34m.\u001b[0m\u001b[0mcallback\u001b[0m \u001b[0;32mimport\u001b[0m \u001b[0;34m*\u001b[0m\u001b[0;34m\u001b[0m\u001b[0;34m\u001b[0m\u001b[0m\n\u001b[1;32m      5\u001b[0m \u001b[0;32mfrom\u001b[0m \u001b[0;34m.\u001b[0m\u001b[0;34m.\u001b[0m\u001b[0mbasic_train\u001b[0m \u001b[0;32mimport\u001b[0m \u001b[0mLearner\u001b[0m\u001b[0;34m,\u001b[0m \u001b[0mLearnerCallback\u001b[0m\u001b[0;34m\u001b[0m\u001b[0;34m\u001b[0m\u001b[0m\n",
      "\u001b[0;32m/usr/local/lib/python3.11/dist-packages/fastai/basic_data.py\u001b[0m in \u001b[0;36m<module>\u001b[0;34m\u001b[0m\n\u001b[1;32m      6\u001b[0m \u001b[0m__all__\u001b[0m \u001b[0;34m=\u001b[0m \u001b[0;34m[\u001b[0m\u001b[0;34m'DataBunch'\u001b[0m\u001b[0;34m,\u001b[0m \u001b[0;34m'DeviceDataLoader'\u001b[0m\u001b[0;34m,\u001b[0m \u001b[0;34m'DatasetType'\u001b[0m\u001b[0;34m,\u001b[0m \u001b[0;34m'load_data'\u001b[0m\u001b[0;34m]\u001b[0m\u001b[0;34m\u001b[0m\u001b[0;34m\u001b[0m\u001b[0m\n\u001b[1;32m      7\u001b[0m \u001b[0;34m\u001b[0m\u001b[0m\n\u001b[0;32m----> 8\u001b[0;31m \u001b[0mold_dl_init\u001b[0m \u001b[0;34m=\u001b[0m \u001b[0mtorch\u001b[0m\u001b[0;34m.\u001b[0m\u001b[0mutils\u001b[0m\u001b[0;34m.\u001b[0m\u001b[0mdata\u001b[0m\u001b[0;34m.\u001b[0m\u001b[0mDataLoader\u001b[0m\u001b[0;34m.\u001b[0m\u001b[0m__init__\u001b[0m\u001b[0;34m\u001b[0m\u001b[0;34m\u001b[0m\u001b[0m\n\u001b[0m\u001b[1;32m      9\u001b[0m \u001b[0;34m\u001b[0m\u001b[0m\n\u001b[1;32m     10\u001b[0m def intercept_args(self, dataset, batch_size=1, shuffle=False, sampler=None, batch_sampler=None,\n",
      "\u001b[0;31mNameError\u001b[0m: name 'torch' is not defined"
     ]
    }
   ],
   "source": [
    "from fastai.vision.all import *\n",
    "from fastai.callback.hook import *\n",
    "\n",
    "import numpy as np \n",
    "import pandas as pd \n",
    "import seaborn as sns\n",
    "import matplotlib.pyplot as plt\n",
    "from sklearn.metrics import auc,roc_curve\n",
    "\n",
    "import os\n",
    "print(os.listdir(\"../input\"))"
   ]
  },
  {
   "cell_type": "markdown",
   "metadata": {
    "_uuid": "df29f9196f114a04e92a5937e6cc45c9c97bc8aa"
   },
   "source": [
    "## Exploratory Data Analysis"
   ]
  },
  {
   "cell_type": "code",
   "execution_count": 2,
   "metadata": {
    "_uuid": "ceca286129cf49d760505cd497e17056fbfcca77",
    "execution": {
     "iopub.execute_input": "2025-08-03T00:55:50.693565Z",
     "iopub.status.busy": "2025-08-03T00:55:50.693238Z",
     "iopub.status.idle": "2025-08-03T00:55:50.697045Z",
     "shell.execute_reply": "2025-08-03T00:55:50.696400Z",
     "shell.execute_reply.started": "2025-08-03T00:55:50.693547Z"
    },
    "trusted": true
   },
   "outputs": [],
   "source": [
    "# Paths and roots to the important files\n",
    "path='../input/'\n",
    "csv_file='../input/HAM10000_metadata.csv'"
   ]
  },
  {
   "cell_type": "code",
   "execution_count": 3,
   "metadata": {
    "_uuid": "aa83a883821623b55f8deb83d2fcab2fb3886303",
    "execution": {
     "iopub.execute_input": "2025-08-03T00:55:50.698248Z",
     "iopub.status.busy": "2025-08-03T00:55:50.697926Z",
     "iopub.status.idle": "2025-08-03T00:55:50.774345Z",
     "shell.execute_reply": "2025-08-03T00:55:50.773785Z",
     "shell.execute_reply.started": "2025-08-03T00:55:50.698231Z"
    },
    "trusted": true
   },
   "outputs": [
    {
     "data": {
      "text/html": [
       "<div>\n",
       "<style scoped>\n",
       "    .dataframe tbody tr th:only-of-type {\n",
       "        vertical-align: middle;\n",
       "    }\n",
       "\n",
       "    .dataframe tbody tr th {\n",
       "        vertical-align: top;\n",
       "    }\n",
       "\n",
       "    .dataframe thead th {\n",
       "        text-align: right;\n",
       "    }\n",
       "</style>\n",
       "<table border=\"1\" class=\"dataframe\">\n",
       "  <thead>\n",
       "    <tr style=\"text-align: right;\">\n",
       "      <th></th>\n",
       "      <th>lesion_id</th>\n",
       "      <th>dx</th>\n",
       "      <th>dx_type</th>\n",
       "      <th>age</th>\n",
       "      <th>sex</th>\n",
       "      <th>localization</th>\n",
       "    </tr>\n",
       "    <tr>\n",
       "      <th>image_id</th>\n",
       "      <th></th>\n",
       "      <th></th>\n",
       "      <th></th>\n",
       "      <th></th>\n",
       "      <th></th>\n",
       "      <th></th>\n",
       "    </tr>\n",
       "  </thead>\n",
       "  <tbody>\n",
       "    <tr>\n",
       "      <th>ISIC_0027419</th>\n",
       "      <td>HAM_0000118</td>\n",
       "      <td>bkl</td>\n",
       "      <td>histo</td>\n",
       "      <td>80.0</td>\n",
       "      <td>male</td>\n",
       "      <td>scalp</td>\n",
       "    </tr>\n",
       "    <tr>\n",
       "      <th>ISIC_0025030</th>\n",
       "      <td>HAM_0000118</td>\n",
       "      <td>bkl</td>\n",
       "      <td>histo</td>\n",
       "      <td>80.0</td>\n",
       "      <td>male</td>\n",
       "      <td>scalp</td>\n",
       "    </tr>\n",
       "    <tr>\n",
       "      <th>ISIC_0026769</th>\n",
       "      <td>HAM_0002730</td>\n",
       "      <td>bkl</td>\n",
       "      <td>histo</td>\n",
       "      <td>80.0</td>\n",
       "      <td>male</td>\n",
       "      <td>scalp</td>\n",
       "    </tr>\n",
       "    <tr>\n",
       "      <th>ISIC_0025661</th>\n",
       "      <td>HAM_0002730</td>\n",
       "      <td>bkl</td>\n",
       "      <td>histo</td>\n",
       "      <td>80.0</td>\n",
       "      <td>male</td>\n",
       "      <td>scalp</td>\n",
       "    </tr>\n",
       "    <tr>\n",
       "      <th>ISIC_0031633</th>\n",
       "      <td>HAM_0001466</td>\n",
       "      <td>bkl</td>\n",
       "      <td>histo</td>\n",
       "      <td>75.0</td>\n",
       "      <td>male</td>\n",
       "      <td>ear</td>\n",
       "    </tr>\n",
       "  </tbody>\n",
       "</table>\n",
       "</div>"
      ],
      "text/plain": [
       "                lesion_id   dx dx_type   age   sex localization\n",
       "image_id                                                       \n",
       "ISIC_0027419  HAM_0000118  bkl   histo  80.0  male        scalp\n",
       "ISIC_0025030  HAM_0000118  bkl   histo  80.0  male        scalp\n",
       "ISIC_0026769  HAM_0002730  bkl   histo  80.0  male        scalp\n",
       "ISIC_0025661  HAM_0002730  bkl   histo  80.0  male        scalp\n",
       "ISIC_0031633  HAM_0001466  bkl   histo  75.0  male          ear"
      ]
     },
     "execution_count": 3,
     "metadata": {},
     "output_type": "execute_result"
    }
   ],
   "source": [
    "df=pd.read_csv(csv_file).set_index('image_id')\n",
    "df.head()"
   ]
  },
  {
   "cell_type": "code",
   "execution_count": 4,
   "metadata": {
    "_uuid": "ea0bf18e51e082faa9bfc016864704d856bdaf0f",
    "execution": {
     "iopub.execute_input": "2025-08-03T00:55:50.775207Z",
     "iopub.status.busy": "2025-08-03T00:55:50.774994Z",
     "iopub.status.idle": "2025-08-03T00:55:50.778915Z",
     "shell.execute_reply": "2025-08-03T00:55:50.778280Z",
     "shell.execute_reply.started": "2025-08-03T00:55:50.775190Z"
    },
    "trusted": true
   },
   "outputs": [],
   "source": [
    "# Categories of the diferent diseases\n",
    "lesion_type_dict = {\n",
    "    'nv': 'Melanocytic nevi',\n",
    "    'mel': 'Melanoma',\n",
    "    'bkl': 'Benign keratosis ',\n",
    "    'bcc': 'Basal cell carcinoma',\n",
    "    'akiec': 'Actinic keratoses',\n",
    "    'vasc': 'Vascular lesions',\n",
    "    'df': 'Dermatofibroma'\n",
    "}"
   ]
  },
  {
   "cell_type": "code",
   "execution_count": 5,
   "metadata": {
    "_uuid": "e58e9c53472157d07751008013dcdff2aa0286b8",
    "execution": {
     "iopub.execute_input": "2025-08-03T00:55:50.781377Z",
     "iopub.status.busy": "2025-08-03T00:55:50.780912Z",
     "iopub.status.idle": "2025-08-03T00:55:50.805713Z",
     "shell.execute_reply": "2025-08-03T00:55:50.805036Z",
     "shell.execute_reply.started": "2025-08-03T00:55:50.781360Z"
    },
    "trusted": true
   },
   "outputs": [
    {
     "data": {
      "text/html": [
       "<div>\n",
       "<style scoped>\n",
       "    .dataframe tbody tr th:only-of-type {\n",
       "        vertical-align: middle;\n",
       "    }\n",
       "\n",
       "    .dataframe tbody tr th {\n",
       "        vertical-align: top;\n",
       "    }\n",
       "\n",
       "    .dataframe thead th {\n",
       "        text-align: right;\n",
       "    }\n",
       "</style>\n",
       "<table border=\"1\" class=\"dataframe\">\n",
       "  <thead>\n",
       "    <tr style=\"text-align: right;\">\n",
       "      <th></th>\n",
       "      <th>lesion_id</th>\n",
       "      <th>dx</th>\n",
       "      <th>dx_type</th>\n",
       "      <th>age</th>\n",
       "      <th>sex</th>\n",
       "      <th>localization</th>\n",
       "      <th>labels</th>\n",
       "      <th>lesion</th>\n",
       "    </tr>\n",
       "    <tr>\n",
       "      <th>image_id</th>\n",
       "      <th></th>\n",
       "      <th></th>\n",
       "      <th></th>\n",
       "      <th></th>\n",
       "      <th></th>\n",
       "      <th></th>\n",
       "      <th></th>\n",
       "      <th></th>\n",
       "    </tr>\n",
       "  </thead>\n",
       "  <tbody>\n",
       "    <tr>\n",
       "      <th>ISIC_0027419</th>\n",
       "      <td>HAM_0000118</td>\n",
       "      <td>bkl</td>\n",
       "      <td>histo</td>\n",
       "      <td>80.0</td>\n",
       "      <td>male</td>\n",
       "      <td>scalp</td>\n",
       "      <td>2</td>\n",
       "      <td>Benign keratosis</td>\n",
       "    </tr>\n",
       "    <tr>\n",
       "      <th>ISIC_0025030</th>\n",
       "      <td>HAM_0000118</td>\n",
       "      <td>bkl</td>\n",
       "      <td>histo</td>\n",
       "      <td>80.0</td>\n",
       "      <td>male</td>\n",
       "      <td>scalp</td>\n",
       "      <td>2</td>\n",
       "      <td>Benign keratosis</td>\n",
       "    </tr>\n",
       "    <tr>\n",
       "      <th>ISIC_0026769</th>\n",
       "      <td>HAM_0002730</td>\n",
       "      <td>bkl</td>\n",
       "      <td>histo</td>\n",
       "      <td>80.0</td>\n",
       "      <td>male</td>\n",
       "      <td>scalp</td>\n",
       "      <td>2</td>\n",
       "      <td>Benign keratosis</td>\n",
       "    </tr>\n",
       "    <tr>\n",
       "      <th>ISIC_0025661</th>\n",
       "      <td>HAM_0002730</td>\n",
       "      <td>bkl</td>\n",
       "      <td>histo</td>\n",
       "      <td>80.0</td>\n",
       "      <td>male</td>\n",
       "      <td>scalp</td>\n",
       "      <td>2</td>\n",
       "      <td>Benign keratosis</td>\n",
       "    </tr>\n",
       "    <tr>\n",
       "      <th>ISIC_0031633</th>\n",
       "      <td>HAM_0001466</td>\n",
       "      <td>bkl</td>\n",
       "      <td>histo</td>\n",
       "      <td>75.0</td>\n",
       "      <td>male</td>\n",
       "      <td>ear</td>\n",
       "      <td>2</td>\n",
       "      <td>Benign keratosis</td>\n",
       "    </tr>\n",
       "  </tbody>\n",
       "</table>\n",
       "</div>"
      ],
      "text/plain": [
       "                lesion_id   dx dx_type   age   sex localization  labels  \\\n",
       "image_id                                                                  \n",
       "ISIC_0027419  HAM_0000118  bkl   histo  80.0  male        scalp       2   \n",
       "ISIC_0025030  HAM_0000118  bkl   histo  80.0  male        scalp       2   \n",
       "ISIC_0026769  HAM_0002730  bkl   histo  80.0  male        scalp       2   \n",
       "ISIC_0025661  HAM_0002730  bkl   histo  80.0  male        scalp       2   \n",
       "ISIC_0031633  HAM_0001466  bkl   histo  75.0  male          ear       2   \n",
       "\n",
       "                         lesion  \n",
       "image_id                         \n",
       "ISIC_0027419  Benign keratosis   \n",
       "ISIC_0025030  Benign keratosis   \n",
       "ISIC_0026769  Benign keratosis   \n",
       "ISIC_0025661  Benign keratosis   \n",
       "ISIC_0031633  Benign keratosis   "
      ]
     },
     "execution_count": 5,
     "metadata": {},
     "output_type": "execute_result"
    }
   ],
   "source": [
    "df.dx=df.dx.astype('category',copy=True)\n",
    "df['labels']=df.dx.cat.codes # Convert the labels to numbers\n",
    "df['lesion']= df.dx.map(lesion_type_dict)\n",
    "df.head()"
   ]
  },
  {
   "cell_type": "code",
   "execution_count": 6,
   "metadata": {
    "_uuid": "930cdd2ee47a33ba14d2221b871c3d90021a0e70",
    "execution": {
     "iopub.execute_input": "2025-08-03T00:55:50.806938Z",
     "iopub.status.busy": "2025-08-03T00:55:50.806361Z",
     "iopub.status.idle": "2025-08-03T00:55:50.817134Z",
     "shell.execute_reply": "2025-08-03T00:55:50.816538Z",
     "shell.execute_reply.started": "2025-08-03T00:55:50.806921Z"
    },
    "scrolled": true,
    "trusted": true
   },
   "outputs": [
    {
     "name": "stdout",
     "output_type": "stream",
     "text": [
      "lesion\n",
      "Melanocytic nevi        6705\n",
      "Melanoma                1113\n",
      "Benign keratosis        1099\n",
      "Basal cell carcinoma     514\n",
      "Actinic keratoses        327\n",
      "Vascular lesions         142\n",
      "Dermatofibroma           115\n",
      "Name: count, dtype: int64\n"
     ]
    }
   ],
   "source": [
    "print(df.lesion.value_counts())\n"
   ]
  },
  {
   "cell_type": "code",
   "execution_count": 7,
   "metadata": {
    "_uuid": "188de54243278d668bca1b4f99daf377f2ee1645",
    "execution": {
     "iopub.execute_input": "2025-08-03T00:55:50.817834Z",
     "iopub.status.busy": "2025-08-03T00:55:50.817678Z",
     "iopub.status.idle": "2025-08-03T00:55:50.832311Z",
     "shell.execute_reply": "2025-08-03T00:55:50.831643Z",
     "shell.execute_reply.started": "2025-08-03T00:55:50.817821Z"
    },
    "trusted": true
   },
   "outputs": [
    {
     "data": {
      "text/plain": [
       "'Benign keratosis '"
      ]
     },
     "execution_count": 7,
     "metadata": {},
     "output_type": "execute_result"
    }
   ],
   "source": [
    "df.loc['ISIC_0027419','lesion']"
   ]
  },
  {
   "cell_type": "markdown",
   "metadata": {
    "_uuid": "d4b031c44c92198a92359b6b10a55f7d2d3bae0c"
   },
   "source": [
    "## Countplot\n",
    "Here we notice tha we have data imbalance "
   ]
  },
  {
   "cell_type": "code",
   "execution_count": 8,
   "metadata": {
    "_uuid": "aa4aa7f19eec66137181f93f36e602842ccc7701",
    "execution": {
     "iopub.execute_input": "2025-08-03T00:55:50.833147Z",
     "iopub.status.busy": "2025-08-03T00:55:50.832903Z",
     "iopub.status.idle": "2025-08-03T00:55:51.205842Z",
     "shell.execute_reply": "2025-08-03T00:55:51.205054Z",
     "shell.execute_reply.started": "2025-08-03T00:55:50.833127Z"
    },
    "trusted": true
   },
   "outputs": [
    {
     "name": "stderr",
     "output_type": "stream",
     "text": [
      "/usr/local/lib/python3.11/dist-packages/seaborn/categorical.py:641: FutureWarning: The default of observed=False is deprecated and will be changed to True in a future version of pandas. Pass observed=False to retain current behavior or observed=True to adopt the future default and silence this warning.\n",
      "  grouped_vals = vals.groupby(grouper)\n"
     ]
    },
    {
     "data": {
      "text/plain": [
       "<Axes: xlabel='count', ylabel='lesion'>"
      ]
     },
     "execution_count": 8,
     "metadata": {},
     "output_type": "execute_result"
    },
    {
     "data": {
      "image/png": "[encoded data removed]",
      "text/plain": [
       "<Figure size 1000x500 with 1 Axes>"
      ]
     },
     "metadata": {},
     "output_type": "display_data"
    }
   ],
   "source": [
    "fig, ax1 = plt.subplots(1, 1, figsize = (10, 5))\n",
    "sns.countplot(y='lesion',data=df, hue=\"lesion\",ax=ax1)"
   ]
  },
  {
   "cell_type": "markdown",
   "metadata": {
    "_uuid": "d767f276d1f923fd5695c13b67166219502a47e8"
   },
   "source": [
    "## Dataset"
   ]
  },
  {
   "cell_type": "code",
   "execution_count": null,
   "metadata": {
    "_uuid": "041953908c95a5ba2c2710012d49edbfb14e306a",
    "execution": {
     "iopub.execute_input": "2025-08-03T00:55:51.206970Z",
     "iopub.status.busy": "2025-08-03T00:55:51.206662Z",
     "iopub.status.idle": "2025-08-03T00:55:51.244752Z",
     "shell.execute_reply": "2025-08-03T00:55:51.242769Z",
     "shell.execute_reply.started": "2025-08-03T00:55:51.206941Z"
    },
    "trusted": true
   },
   "outputs": [
    {
     "ename": "NameError",
     "evalue": "name 'ImageItemList' is not defined",
     "output_type": "error",
     "traceback": [
      "\u001b[0;31m---------------------------------------------------------------------------\u001b[0m",
      "\u001b[0;31mNameError\u001b[0m                                 Traceback (most recent call last)",
      "\u001b[0;32m/tmp/ipykernel_36/1110479172.py\u001b[0m in \u001b[0;36m<cell line: 0>\u001b[0;34m()\u001b[0m\n\u001b[0;32m----> 1\u001b[0;31m \u001b[0;32mclass\u001b[0m \u001b[0mCustomImageItemList\u001b[0m\u001b[0;34m(\u001b[0m\u001b[0mImageItemList\u001b[0m\u001b[0;34m)\u001b[0m\u001b[0;34m:\u001b[0m\u001b[0;34m\u001b[0m\u001b[0;34m\u001b[0m\u001b[0m\n\u001b[0m\u001b[1;32m      2\u001b[0m     \u001b[0;32mdef\u001b[0m \u001b[0mcustom_label\u001b[0m\u001b[0;34m(\u001b[0m\u001b[0mself\u001b[0m\u001b[0;34m,\u001b[0m\u001b[0mdf\u001b[0m\u001b[0;34m,\u001b[0m \u001b[0;34m**\u001b[0m\u001b[0mkwargs\u001b[0m\u001b[0;34m)\u001b[0m\u001b[0;34m->\u001b[0m\u001b[0;34m'LabelList'\u001b[0m\u001b[0;34m:\u001b[0m\u001b[0;34m\u001b[0m\u001b[0;34m\u001b[0m\u001b[0m\n\u001b[1;32m      3\u001b[0m         \u001b[0;34m\"\"\"Custom Labels from path\"\"\"\u001b[0m\u001b[0;34m\u001b[0m\u001b[0;34m\u001b[0m\u001b[0m\n\u001b[1;32m      4\u001b[0m         \u001b[0mfile_names\u001b[0m\u001b[0;34m=\u001b[0m\u001b[0mnp\u001b[0m\u001b[0;34m.\u001b[0m\u001b[0mvectorize\u001b[0m\u001b[0;34m(\u001b[0m\u001b[0;32mlambda\u001b[0m \u001b[0mfiles\u001b[0m\u001b[0;34m:\u001b[0m \u001b[0mstr\u001b[0m\u001b[0;34m(\u001b[0m\u001b[0mfiles\u001b[0m\u001b[0;34m)\u001b[0m\u001b[0;34m.\u001b[0m\u001b[0msplit\u001b[0m\u001b[0;34m(\u001b[0m\u001b[0;34m'/'\u001b[0m\u001b[0;34m)\u001b[0m\u001b[0;34m[\u001b[0m\u001b[0;34m-\u001b[0m\u001b[0;36m1\u001b[0m\u001b[0;34m]\u001b[0m\u001b[0;34m[\u001b[0m\u001b[0;34m:\u001b[0m\u001b[0;34m-\u001b[0m\u001b[0;36m4\u001b[0m\u001b[0;34m]\u001b[0m\u001b[0;34m)\u001b[0m\u001b[0;34m\u001b[0m\u001b[0;34m\u001b[0m\u001b[0m\n\u001b[1;32m      5\u001b[0m         \u001b[0mget_labels\u001b[0m\u001b[0;34m=\u001b[0m\u001b[0;32mlambda\u001b[0m \u001b[0mx\u001b[0m\u001b[0;34m:\u001b[0m \u001b[0mdf\u001b[0m\u001b[0;34m.\u001b[0m\u001b[0mloc\u001b[0m\u001b[0;34m[\u001b[0m\u001b[0mx\u001b[0m\u001b[0;34m,\u001b[0m\u001b[0;34m'lesion'\u001b[0m\u001b[0;34m]\u001b[0m\u001b[0;34m\u001b[0m\u001b[0;34m\u001b[0m\u001b[0m\n",
      "\u001b[0;31mNameError\u001b[0m: name 'ImageItemList' is not defined"
     ]
    }
   ],
   "source": [
    "def get_label(img_path):\n",
    "    \"\"\"Get label from image path\"\"\"\n",
    "    img_name = img_path.name[:-4]  # Remove .jpg extension\n",
    "    return df.loc[img_name, 'lesion'] if img_name in df.index else 'unknown'"
   ]
  },
  {
   "cell_type": "code",
   "execution_count": null,
   "metadata": {
    "_uuid": "c2be1d1ebfe17e6678942f7fee436a334e1ac3c6",
    "execution": {
     "iopub.status.busy": "2025-08-03T00:55:51.245153Z",
     "iopub.status.idle": "2025-08-03T00:55:51.245361Z",
     "shell.execute_reply": "2025-08-03T00:55:51.245269Z",
     "shell.execute_reply.started": "2025-08-03T00:55:51.245260Z"
    },
    "trusted": true
   },
   "outputs": [],
   "source": [
    "def get_data(bs, size):\n",
    "    # Define path and get image files\n",
    "    path = Path('../input')\n",
    "    \n",
    "    # Get all jpg files\n",
    "    files = get_image_files(path)\n",
    "    \n",
    "    # Create DataBlock\n",
    "    dblock = DataBlock(\n",
    "        blocks=(ImageBlock, CategoryBlock),\n",
    "        get_items=get_image_files,\n",
    "        get_y=get_label,\n",
    "        splitter=RandomSplitter(valid_pct=0.15, seed=42),\n",
    "        item_tfms=Resize(size),\n",
    "        batch_tfms=aug_transforms(flip_vert=True)\n",
    "    )\n",
    "    \n",
    "    # Create DataLoaders\n",
    "    dls = dblock.dataloaders(path, bs=bs)\n",
    "    return dls"
   ]
  },
  {
   "cell_type": "code",
   "execution_count": null,
   "metadata": {
    "_uuid": "ed3e7a2c4b132e8bec9d795dc311ad0f05865fdc",
    "execution": {
     "iopub.status.busy": "2025-08-03T00:55:51.246313Z",
     "iopub.status.idle": "2025-08-03T00:55:51.246587Z",
     "shell.execute_reply": "2025-08-03T00:55:51.246472Z",
     "shell.execute_reply.started": "2025-08-03T00:55:51.246455Z"
    },
    "trusted": true
   },
   "outputs": [],
   "source": [
    "dls = get_data(16, 224)"
   ]
  },
  {
   "cell_type": "code",
   "execution_count": null,
   "metadata": {
    "_uuid": "5b5eaca716fadcf49dfc9a3bfdbf7e384b3ffc38",
    "execution": {
     "iopub.status.busy": "2025-08-03T00:55:51.247578Z",
     "iopub.status.idle": "2025-08-03T00:55:51.247823Z",
     "shell.execute_reply": "2025-08-03T00:55:51.247724Z",
     "shell.execute_reply.started": "2025-08-03T00:55:51.247714Z"
    },
    "trusted": true
   },
   "outputs": [],
   "source": [
    "# Fastai v2 automatically handles classes\n",
    "print(f\"Classes: {dls.vocab}\")\n",
    "print(f\"Number of classes: {len(dls.vocab)}\")"
   ]
  },
  {
   "cell_type": "code",
   "execution_count": null,
   "metadata": {
    "_uuid": "d68fcda63a98f92728d6015b1cb0dbbf3e3b3eca",
    "execution": {
     "iopub.status.busy": "2025-08-03T00:55:51.249241Z",
     "iopub.status.idle": "2025-08-03T00:55:51.249660Z",
     "shell.execute_reply": "2025-08-03T00:55:51.249501Z",
     "shell.execute_reply.started": "2025-08-03T00:55:51.249486Z"
    },
    "trusted": true
   },
   "outputs": [],
   "source": [
    "dls.show_batch(max_n=9)"
   ]
  },
  {
   "cell_type": "markdown",
   "metadata": {
    "_uuid": "2c4bb6b7f4973f247c8be0d7cd65d0394630c820"
   },
   "source": [
    "## Model ResNet50 "
   ]
  },
  {
   "cell_type": "code",
   "execution_count": null,
   "metadata": {
    "_uuid": "242f5ce37bcc315f4f765f6d115118d53519dca6",
    "execution": {
     "iopub.status.busy": "2025-08-03T00:55:51.250498Z",
     "iopub.status.idle": "2025-08-03T00:55:51.250810Z",
     "shell.execute_reply": "2025-08-03T00:55:51.250672Z",
     "shell.execute_reply.started": "2025-08-03T00:55:51.250658Z"
    },
    "trusted": true
   },
   "outputs": [],
   "source": [
    "learner = vision_learner(dls, resnet50, metrics=accuracy)"
   ]
  },
  {
   "cell_type": "code",
   "execution_count": null,
   "metadata": {
    "_uuid": "d33c4c3bcaf1e248c0f919227cdd61d473331c7d",
    "execution": {
     "iopub.status.busy": "2025-08-03T00:55:51.252225Z",
     "iopub.status.idle": "2025-08-03T00:55:51.252447Z",
     "shell.execute_reply": "2025-08-03T00:55:51.252354Z",
     "shell.execute_reply.started": "2025-08-03T00:55:51.252344Z"
    },
    "trusted": true
   },
   "outputs": [],
   "source": [
    "# Fastai v2 automatically uses CrossEntropyLoss for classification\n",
    "print(f\"Loss function: {learner.loss_func}\")"
   ]
  },
  {
   "cell_type": "code",
   "execution_count": null,
   "metadata": {
    "_uuid": "662fcef191fcf8089f3b9ceafa89ef8f80a12588",
    "execution": {
     "iopub.status.busy": "2025-08-03T00:55:51.253182Z",
     "iopub.status.idle": "2025-08-03T00:55:51.253386Z",
     "shell.execute_reply": "2025-08-03T00:55:51.253298Z",
     "shell.execute_reply.started": "2025-08-03T00:55:51.253289Z"
    },
    "trusted": true
   },
   "outputs": [],
   "source": [
    "learner.lr_find()"
   ]
  },
  {
   "cell_type": "code",
   "execution_count": null,
   "metadata": {
    "_uuid": "ad25d50c133e3dfdce0dfc7afda3539e2f4cab55",
    "execution": {
     "iopub.status.busy": "2025-08-03T00:55:51.254744Z",
     "iopub.status.idle": "2025-08-03T00:55:51.255054Z",
     "shell.execute_reply": "2025-08-03T00:55:51.254913Z",
     "shell.execute_reply.started": "2025-08-03T00:55:51.254898Z"
    },
    "scrolled": true,
    "trusted": true
   },
   "outputs": [],
   "source": [
    "# Training với early stopping\n",
    "from fastai.callback.tracker import EarlyStoppingCallback, SaveModelCallback\n",
    "\n",
    "# Giai đoạn 1: Frozen training với early stopping\n",
    "learner.fit_one_cycle(30, 3e-3, cbs=[\n",
    "    EarlyStoppingCallback(monitor='valid_loss', patience=5),\n",
    "    SaveModelCallback(monitor='accuracy', fname='best_frozen')\n",
    "])"
   ]
  },
  {
   "cell_type": "code",
   "execution_count": null,
   "metadata": {
    "_uuid": "9cb682c67a2ae94e395f0c6c02c0b7a1c33a579f",
    "execution": {
     "iopub.status.busy": "2025-08-03T00:55:51.255901Z",
     "iopub.status.idle": "2025-08-03T00:55:51.256150Z",
     "shell.execute_reply": "2025-08-03T00:55:51.256026Z",
     "shell.execute_reply.started": "2025-08-03T00:55:51.256017Z"
    },
    "trusted": true
   },
   "outputs": [],
   "source": [
    "learner.unfreeze()"
   ]
  },
  {
   "cell_type": "code",
   "execution_count": null,
   "metadata": {
    "_uuid": "ed5d57b2d2f942401a6b6ee23bf27fae6675e344",
    "execution": {
     "iopub.status.busy": "2025-08-03T00:55:51.257441Z",
     "iopub.status.idle": "2025-08-03T00:55:51.257724Z",
     "shell.execute_reply": "2025-08-03T00:55:51.257581Z",
     "shell.execute_reply.started": "2025-08-03T00:55:51.257567Z"
    },
    "trusted": true
   },
   "outputs": [],
   "source": [
    "learner.lr_find()"
   ]
  },
  {
   "cell_type": "code",
   "execution_count": null,
   "metadata": {
    "_uuid": "bc733770a4e24caff4460e007027c97ee7a2f5dd",
    "execution": {
     "iopub.status.busy": "2025-08-03T00:55:51.258684Z",
     "iopub.status.idle": "2025-08-03T00:55:51.258970Z",
     "shell.execute_reply": "2025-08-03T00:55:51.258820Z",
     "shell.execute_reply.started": "2025-08-03T00:55:51.258806Z"
    },
    "trusted": true
   },
   "outputs": [],
   "source": [
    "# Giai đoạn 2: Fine-tuning với early stopping\n",
    "lr = 1e-6\n",
    "learner.fit_one_cycle(15, slice(3*lr, 10*lr), cbs=[\n",
    "    EarlyStoppingCallback(monitor='valid_loss', patience=3),\n",
    "    SaveModelCallback(monitor='accuracy', fname='best_finetuned')\n",
    "])"
   ]
  },
  {
   "cell_type": "code",
   "execution_count": null,
   "metadata": {
    "_uuid": "b950cee0c5aadfd0cabdeafd8f4c2adebda47e80",
    "execution": {
     "iopub.status.busy": "2025-08-03T00:55:51.260223Z",
     "iopub.status.idle": "2025-08-03T00:55:51.260448Z",
     "shell.execute_reply": "2025-08-03T00:55:51.260354Z",
     "shell.execute_reply.started": "2025-08-03T00:55:51.260344Z"
    },
    "trusted": true
   },
   "outputs": [],
   "source": [
    "# Save model cuối cùng\n",
    "learner.save('stage-1')\n",
    "\n",
    "# Save model cho Kaggle (để đảm bảo)\n",
    "import os\n",
    "model_dir = '/kaggle/working/models/'\n",
    "if not os.path.exists(model_dir):\n",
    "    os.makedirs(model_dir)\n",
    "\n",
    "# Export model để có thể download\n",
    "learner.export('/kaggle/working/resnet50_skin_cancer_model.pkl')\n",
    "print(\"Model đã được save tại:\")\n",
    "print(\"- stage-1.pth (fastai format)\")\n",
    "print(\"- resnet50_skin_cancer_model.pkl (export format)\")\n",
    "print(\"- best_frozen.pth và best_finetuned.pth (từ callbacks)\")\n",
    "\n",
    "# Hiển thị các file đã lưu\n",
    "import glob\n",
    "saved_files = glob.glob('/kaggle/working/**/*.p*', recursive=True)\n",
    "print(f\"\\nCác file model đã lưu: {saved_files}\")"
   ]
  },
  {
   "cell_type": "code",
   "execution_count": null,
   "metadata": {
    "_uuid": "d714c6d2aeff43db0c3033e66cf7f0ea0d16c644",
    "execution": {
     "iopub.status.busy": "2025-08-03T00:55:51.261726Z",
     "iopub.status.idle": "2025-08-03T00:55:51.261931Z",
     "shell.execute_reply": "2025-08-03T00:55:51.261843Z",
     "shell.execute_reply.started": "2025-08-03T00:55:51.261834Z"
    },
    "trusted": true
   },
   "outputs": [],
   "source": [
    "interp = ClassificationInterpretation.from_learner(learner)"
   ]
  },
  {
   "cell_type": "code",
   "execution_count": null,
   "metadata": {
    "_uuid": "25756596e2daf1586af5e4a86b3095232f1006be",
    "execution": {
     "iopub.status.busy": "2025-08-03T00:55:51.263003Z",
     "iopub.status.idle": "2025-08-03T00:55:51.263343Z",
     "shell.execute_reply": "2025-08-03T00:55:51.263182Z",
     "shell.execute_reply.started": "2025-08-03T00:55:51.263142Z"
    },
    "scrolled": true,
    "trusted": true
   },
   "outputs": [],
   "source": [
    "interp.plot_confusion_matrix(figsize=(10,8))"
   ]
  },
  {
   "cell_type": "code",
   "execution_count": null,
   "metadata": {
    "_uuid": "a9b548ac68f5bf232fe5087ea892a08b702f4960",
    "execution": {
     "iopub.status.busy": "2025-08-03T00:55:51.263913Z",
     "iopub.status.idle": "2025-08-03T00:55:51.264182Z",
     "shell.execute_reply": "2025-08-03T00:55:51.264041Z",
     "shell.execute_reply.started": "2025-08-03T00:55:51.264029Z"
    },
    "trusted": true
   },
   "outputs": [],
   "source": [
    "interp.most_confused()"
   ]
  },
  {
   "cell_type": "markdown",
   "metadata": {
    "_uuid": "3abded89a232921a48e9dfdd7a84ef8934db70a9"
   },
   "source": [
    "## Inference"
   ]
  },
  {
   "cell_type": "code",
   "execution_count": null,
   "metadata": {
    "_uuid": "ba89eaa6bb7e5e5f4faeacf073deee90a9483c22",
    "execution": {
     "iopub.status.busy": "2025-08-03T00:55:51.265183Z",
     "iopub.status.idle": "2025-08-03T00:55:51.265461Z",
     "shell.execute_reply": "2025-08-03T00:55:51.265322Z",
     "shell.execute_reply.started": "2025-08-03T00:55:51.265308Z"
    },
    "trusted": true
   },
   "outputs": [],
   "source": [
    "# For inference, we can use the same learner or create a new one\n",
    "pred_dls = get_data(16, 224)"
   ]
  },
  {
   "cell_type": "code",
   "execution_count": null,
   "metadata": {
    "_uuid": "14e667a25f84dc92eaca274c306ed805de903cc5",
    "execution": {
     "iopub.status.busy": "2025-08-03T00:55:51.266409Z",
     "iopub.status.idle": "2025-08-03T00:55:51.266642Z",
     "shell.execute_reply": "2025-08-03T00:55:51.266548Z",
     "shell.execute_reply.started": "2025-08-03T00:55:51.266540Z"
    },
    "trusted": true
   },
   "outputs": [],
   "source": [
    "# Fastai v2 automatically handles classes\n",
    "print(f\"Prediction classes: {pred_dls.vocab}\")"
   ]
  },
  {
   "cell_type": "code",
   "execution_count": null,
   "metadata": {
    "_uuid": "ddfd7abfe1716e99af276be82af5eacc3e520281",
    "execution": {
     "iopub.status.busy": "2025-08-03T00:55:51.267386Z",
     "iopub.status.idle": "2025-08-03T00:55:51.267581Z",
     "shell.execute_reply": "2025-08-03T00:55:51.267496Z",
     "shell.execute_reply.started": "2025-08-03T00:55:51.267488Z"
    },
    "trusted": true
   },
   "outputs": [],
   "source": [
    "# This method is not needed in fastai v2\n",
    "# We can directly use the learner for prediction"
   ]
  },
  {
   "cell_type": "code",
   "execution_count": null,
   "metadata": {
    "_uuid": "e7395af2b7d5a1a502aa3a76daa2fc8f920d845e",
    "execution": {
     "iopub.status.busy": "2025-08-03T00:55:51.268492Z",
     "iopub.status.idle": "2025-08-03T00:55:51.268777Z",
     "shell.execute_reply": "2025-08-03T00:55:51.268668Z",
     "shell.execute_reply.started": "2025-08-03T00:55:51.268655Z"
    },
    "trusted": true
   },
   "outputs": [],
   "source": [
    "# Load the saved model for prediction\n",
    "predictor = learner  # In fastai v2, we can use the same learner"
   ]
  },
  {
   "cell_type": "code",
   "execution_count": null,
   "metadata": {
    "_uuid": "ac3269a1cf9d52548fd4ff8eebb29c794b9b8034",
    "execution": {
     "iopub.status.busy": "2025-08-03T00:55:51.269662Z",
     "iopub.status.idle": "2025-08-03T00:55:51.269889Z",
     "shell.execute_reply": "2025-08-03T00:55:51.269791Z",
     "shell.execute_reply.started": "2025-08-03T00:55:51.269781Z"
    },
    "trusted": true
   },
   "outputs": [],
   "source": [
    "img = PILImage.create('../input/ham10000_images_part_2/ISIC_0029886.jpg')\n",
    "img.show()"
   ]
  },
  {
   "cell_type": "code",
   "execution_count": null,
   "metadata": {
    "_uuid": "767531600ec5abe13c174d66e412be97dd3b6af3",
    "execution": {
     "iopub.status.busy": "2025-08-03T00:55:51.270571Z",
     "iopub.status.idle": "2025-08-03T00:55:51.270801Z",
     "shell.execute_reply": "2025-08-03T00:55:51.270699Z",
     "shell.execute_reply.started": "2025-08-03T00:55:51.270687Z"
    },
    "trusted": true
   },
   "outputs": [],
   "source": [
    "pred_class, pred_idx, outputs = predictor.predict(img)\n",
    "print(f\"Predicted class: {pred_class}\")\n",
    "print(f\"Prediction probabilities: {outputs}\")"
   ]
  },
  {
   "cell_type": "markdown",
   "metadata": {
    "_uuid": "0465a64fa54e721a9b3619cf0812a0cbc95eb662"
   },
   "source": [
    "## Predictions"
   ]
  },
  {
   "cell_type": "code",
   "execution_count": null,
   "metadata": {
    "_uuid": "1a8e3dc8904c4eaaa813a2153d04bdc42c718a15",
    "execution": {
     "iopub.status.busy": "2025-08-03T00:55:51.271996Z",
     "iopub.status.idle": "2025-08-03T00:55:51.272244Z",
     "shell.execute_reply": "2025-08-03T00:55:51.272145Z",
     "shell.execute_reply.started": "2025-08-03T00:55:51.272133Z"
    },
    "trusted": true
   },
   "outputs": [],
   "source": [
    "# Predictions of the validation data\n",
    "preds_val, y_val = learner.get_preds()"
   ]
  },
  {
   "cell_type": "markdown",
   "metadata": {
    "_uuid": "28a5f8aaa572c030cd5a47105418350129d7924e"
   },
   "source": [
    "### Roc Curve\n",
    "With the ROC curve we will mesuare how good it's our model"
   ]
  },
  {
   "cell_type": "code",
   "execution_count": null,
   "metadata": {
    "_uuid": "f7028c456974e19e74393c04cabd95742ca379d8",
    "execution": {
     "iopub.status.busy": "2025-08-03T00:55:51.273822Z",
     "iopub.status.idle": "2025-08-03T00:55:51.274118Z",
     "shell.execute_reply": "2025-08-03T00:55:51.273967Z",
     "shell.execute_reply.started": "2025-08-03T00:55:51.273952Z"
    },
    "trusted": true
   },
   "outputs": [],
   "source": [
    "#  ROC curve\n",
    "fpr, tpr, thresholds = roc_curve(y_val.numpy(), preds_val.numpy()[:,1], pos_label=1)\n",
    "\n",
    "#  ROC area\n",
    "pred_score = auc(fpr, tpr)\n",
    "print(f'ROC area is {pred_score}')"
   ]
  },
  {
   "cell_type": "code",
   "execution_count": null,
   "metadata": {
    "_uuid": "59641b64992e6a05d98caa1686b36709425a5c56",
    "execution": {
     "iopub.status.busy": "2025-08-03T00:55:51.277222Z",
     "iopub.status.idle": "2025-08-03T00:55:51.277492Z",
     "shell.execute_reply": "2025-08-03T00:55:51.277354Z",
     "shell.execute_reply.started": "2025-08-03T00:55:51.277340Z"
    },
    "trusted": true
   },
   "outputs": [],
   "source": [
    "plt.figure()\n",
    "plt.plot(fpr, tpr, color='orange', label='ROC curve (area = %0.2f)' % pred_score)\n",
    "plt.plot([0, 1], [0, 1], color='navy', linestyle='--')\n",
    "plt.xlim([-0.01, 1.0])\n",
    "plt.ylim([0.0, 1.01])\n",
    "plt.xlabel('False Positive Rate')\n",
    "plt.ylabel('True Positive Rate')\n",
    "plt.title('Receiver Operating Characteristic')\n",
    "plt.legend(loc=\"lower right\")"
   ]
  },
  {
   "cell_type": "markdown",
   "metadata": {
    "_uuid": "68ff85fd3d17a8061631dc001d7c6c6316b106f2",
    "trusted": true
   },
   "source": [
    "## Heatmap"
   ]
  },
  {
   "cell_type": "code",
   "execution_count": null,
   "metadata": {
    "_uuid": "76d87bee9269e735233425ae66e01ed61aba9587",
    "execution": {
     "iopub.status.busy": "2025-08-03T00:55:51.278333Z",
     "iopub.status.idle": "2025-08-03T00:55:51.278586Z",
     "shell.execute_reply": "2025-08-03T00:55:51.278490Z",
     "shell.execute_reply.started": "2025-08-03T00:55:51.278479Z"
    },
    "trusted": true
   },
   "outputs": [],
   "source": [
    "# Get a sample from validation data\n",
    "x, y = dls.valid.one_batch()\n",
    "x_sample = x[2]\n",
    "y_sample = y[2]\n",
    "\n",
    "# Show the image\n",
    "show_image(x_sample)\n",
    "print(f\"Label: {dls.vocab[y_sample]}\")"
   ]
  },
  {
   "cell_type": "code",
   "execution_count": null,
   "metadata": {
    "_uuid": "346bf0b686e68a0d515523e16a3a79cecf646529",
    "execution": {
     "iopub.status.busy": "2025-08-03T00:55:51.279642Z",
     "iopub.status.idle": "2025-08-03T00:55:51.279855Z",
     "shell.execute_reply": "2025-08-03T00:55:51.279763Z",
     "shell.execute_reply.started": "2025-08-03T00:55:51.279755Z"
    },
    "trusted": true
   },
   "outputs": [],
   "source": [
    "def heatMap(x, y, dls, learner, size=(0, 224, 224, 0)):\n",
    "    \"\"\"HeatMap using fastai v2\"\"\"\n",
    "    \n",
    "    # Evaluation mode\n",
    "    m = learner.model.eval()\n",
    "    \n",
    "    # Prepare the image\n",
    "    x_tensor = x.unsqueeze(0).to(device=default_device())\n",
    "    \n",
    "    # hook the activations\n",
    "    with hook_output(m[0]) as hook_a: \n",
    "        with hook_output(m[0], grad=True) as hook_g:\n",
    "            preds = m(x_tensor)\n",
    "            preds[0, int(y)].backward()\n",
    "\n",
    "    # Activations    \n",
    "    acts = hook_a.stored[0].cpu()\n",
    "    \n",
    "    # Avg of the activations\n",
    "    avg_acts = acts.mean(0)\n",
    "    \n",
    "    # Show HeatMap\n",
    "    _, ax = plt.subplots()\n",
    "    show_image(x, ax=ax)\n",
    "    ax.imshow(avg_acts, alpha=0.6, extent=size,\n",
    "              interpolation='bilinear', cmap='magma')"
   ]
  },
  {
   "cell_type": "code",
   "execution_count": null,
   "metadata": {
    "_uuid": "afa3c92c8f26da6ed51861684f2fa614314f3a2d",
    "execution": {
     "iopub.status.busy": "2025-08-03T00:55:51.280665Z",
     "iopub.status.idle": "2025-08-03T00:55:51.280945Z",
     "shell.execute_reply": "2025-08-03T00:55:51.280828Z",
     "shell.execute_reply.started": "2025-08-03T00:55:51.280815Z"
    },
    "trusted": true
   },
   "outputs": [],
   "source": [
    "heatMap(x_sample, y_sample, dls, learner)"
   ]
  }
 ],
 "metadata": {
  "kaggle": {
   "accelerator": "gpu",
   "dataSources": [
    {
     "datasetId": 54339,
     "sourceId": 104884,
     "sourceType": "datasetVersion"
    }
   ],
   "isGpuEnabled": true,
   "isInternetEnabled": true,
   "language": "python",
   "sourceType": "notebook"
  },
  "kernelspec": {
   "display_name": "Python 3",
   "language": "python",
   "name": "python3"
  },
  "language_info": {
   "codemirror_mode": {
    "name": "ipython",
    "version": 3
   },
   "file_extension": ".py",
   "mimetype": "text/x-python",
   "name": "python",
   "nbconvert_exporter": "python",
   "pygments_lexer": "ipython3",
   "version": "3.11.13"
  }
 },
 "nbformat": 4,
 "nbformat_minor": 4
}
