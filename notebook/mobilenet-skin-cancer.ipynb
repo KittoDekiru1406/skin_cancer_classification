{
 "cells": [
  {
   "cell_type": "code",
   "execution_count": 2,
   "metadata": {
    "_cell_guid": "79c7e3d0-c299-4dcb-8224-4455121ee9b0",
    "_uuid": "d629ff2d2480ee46fbb7e2d37f6b5fab8052498a",
    "execution": {
     "iopub.execute_input": "2025-08-02T15:54:32.491729Z",
     "iopub.status.busy": "2025-08-02T15:54:32.491503Z",
     "iopub.status.idle": "2025-08-02T15:54:39.212216Z",
     "shell.execute_reply": "2025-08-02T15:54:39.211193Z",
     "shell.execute_reply.started": "2025-08-02T15:54:32.491704Z"
    },
    "trusted": true
   },
   "outputs": [],
   "source": [
    "import os\n",
    "import shutil\n",
    "\n",
    "import cv2\n",
    "import gc\n",
    "import keras\n",
    "import numpy as np\n",
    "import pandas as pd\n",
    "from keras.applications.mobilenet import MobileNet\n",
    "from keras.callbacks import EarlyStopping, ModelCheckpoint, ReduceLROnPlateau\n",
    "from keras.layers import (BatchNormalization, Dense, Dropout, Flatten)\n",
    "from keras.metrics import categorical_accuracy, top_k_categorical_accuracy\n",
    "from keras.models import Sequential\n",
    "from keras.preprocessing.image import ImageDataGenerator\n",
    "from keras.optimizers import Adam\n",
    "from matplotlib import pyplot as plt\n",
    "from sklearn.metrics import confusion_matrix, f1_score\n",
    "from sklearn.model_selection import train_test_split"
   ]
  },
  {
   "cell_type": "code",
   "execution_count": 3,
   "metadata": {
    "execution": {
     "iopub.execute_input": "2025-08-02T15:54:39.214671Z",
     "iopub.status.busy": "2025-08-02T15:54:39.214415Z",
     "iopub.status.idle": "2025-08-02T15:54:39.263537Z",
     "shell.execute_reply": "2025-08-02T15:54:39.262769Z",
     "shell.execute_reply.started": "2025-08-02T15:54:39.214645Z"
    },
    "trusted": true
   },
   "outputs": [
    {
     "data": {
      "text/html": [
       "<div>\n",
       "<style scoped>\n",
       "    .dataframe tbody tr th:only-of-type {\n",
       "        vertical-align: middle;\n",
       "    }\n",
       "\n",
       "    .dataframe tbody tr th {\n",
       "        vertical-align: top;\n",
       "    }\n",
       "\n",
       "    .dataframe thead th {\n",
       "        text-align: right;\n",
       "    }\n",
       "</style>\n",
       "<table border=\"1\" class=\"dataframe\">\n",
       "  <thead>\n",
       "    <tr style=\"text-align: right;\">\n",
       "      <th></th>\n",
       "      <th>lesion_id</th>\n",
       "      <th>image_id</th>\n",
       "      <th>dx</th>\n",
       "      <th>dx_type</th>\n",
       "      <th>age</th>\n",
       "      <th>sex</th>\n",
       "      <th>localization</th>\n",
       "    </tr>\n",
       "  </thead>\n",
       "  <tbody>\n",
       "    <tr>\n",
       "      <th>0</th>\n",
       "      <td>HAM_0000118</td>\n",
       "      <td>ISIC_0027419</td>\n",
       "      <td>bkl</td>\n",
       "      <td>histo</td>\n",
       "      <td>80.0</td>\n",
       "      <td>male</td>\n",
       "      <td>scalp</td>\n",
       "    </tr>\n",
       "    <tr>\n",
       "      <th>1</th>\n",
       "      <td>HAM_0000118</td>\n",
       "      <td>ISIC_0025030</td>\n",
       "      <td>bkl</td>\n",
       "      <td>histo</td>\n",
       "      <td>80.0</td>\n",
       "      <td>male</td>\n",
       "      <td>scalp</td>\n",
       "    </tr>\n",
       "    <tr>\n",
       "      <th>2</th>\n",
       "      <td>HAM_0002730</td>\n",
       "      <td>ISIC_0026769</td>\n",
       "      <td>bkl</td>\n",
       "      <td>histo</td>\n",
       "      <td>80.0</td>\n",
       "      <td>male</td>\n",
       "      <td>scalp</td>\n",
       "    </tr>\n",
       "    <tr>\n",
       "      <th>3</th>\n",
       "      <td>HAM_0002730</td>\n",
       "      <td>ISIC_0025661</td>\n",
       "      <td>bkl</td>\n",
       "      <td>histo</td>\n",
       "      <td>80.0</td>\n",
       "      <td>male</td>\n",
       "      <td>scalp</td>\n",
       "    </tr>\n",
       "    <tr>\n",
       "      <th>4</th>\n",
       "      <td>HAM_0001466</td>\n",
       "      <td>ISIC_0031633</td>\n",
       "      <td>bkl</td>\n",
       "      <td>histo</td>\n",
       "      <td>75.0</td>\n",
       "      <td>male</td>\n",
       "      <td>ear</td>\n",
       "    </tr>\n",
       "  </tbody>\n",
       "</table>\n",
       "</div>"
      ],
      "text/plain": [
       "     lesion_id      image_id   dx dx_type   age   sex localization\n",
       "0  HAM_0000118  ISIC_0027419  bkl   histo  80.0  male        scalp\n",
       "1  HAM_0000118  ISIC_0025030  bkl   histo  80.0  male        scalp\n",
       "2  HAM_0002730  ISIC_0026769  bkl   histo  80.0  male        scalp\n",
       "3  HAM_0002730  ISIC_0025661  bkl   histo  80.0  male        scalp\n",
       "4  HAM_0001466  ISIC_0031633  bkl   histo  75.0  male          ear"
      ]
     },
     "execution_count": 3,
     "metadata": {},
     "output_type": "execute_result"
    }
   ],
   "source": [
    "#Exploration des données\n",
    "metadata = pd.read_csv(\"../input/skin-cancer-mnist-ham10000/HAM10000_metadata.csv\")\n",
    "metadata.head()"
   ]
  },
  {
   "cell_type": "code",
   "execution_count": 4,
   "metadata": {
    "execution": {
     "iopub.execute_input": "2025-08-02T15:54:39.264857Z",
     "iopub.status.busy": "2025-08-02T15:54:39.264613Z",
     "iopub.status.idle": "2025-08-02T15:54:39.285808Z",
     "shell.execute_reply": "2025-08-02T15:54:39.285021Z",
     "shell.execute_reply.started": "2025-08-02T15:54:39.264832Z"
    },
    "trusted": true
   },
   "outputs": [
    {
     "data": {
      "text/plain": [
       "nv       0.669496\n",
       "mel      0.111133\n",
       "bkl      0.109735\n",
       "bcc      0.051323\n",
       "akiec    0.032651\n",
       "vasc     0.014179\n",
       "df       0.011483\n",
       "Name: dx, dtype: float64"
      ]
     },
     "execution_count": 4,
     "metadata": {},
     "output_type": "execute_result"
    }
   ],
   "source": [
    "#Vérification de  la proportion de chaque Label.\n",
    "metadata[\"dx\"].value_counts() / metadata.shape[0]"
   ]
  },
  {
   "cell_type": "markdown",
   "metadata": {},
   "source": [
    "L'ensemble de données est très inégal. Ainsi, nous devons augmenter les données."
   ]
  },
  {
   "cell_type": "code",
   "execution_count": 5,
   "metadata": {
    "execution": {
     "iopub.execute_input": "2025-08-02T15:54:39.286989Z",
     "iopub.status.busy": "2025-08-02T15:54:39.286765Z",
     "iopub.status.idle": "2025-08-02T15:54:39.333873Z",
     "shell.execute_reply": "2025-08-02T15:54:39.333117Z",
     "shell.execute_reply.started": "2025-08-02T15:54:39.286966Z"
    },
    "trusted": true
   },
   "outputs": [
    {
     "name": "stdout",
     "output_type": "stream",
     "text": [
      "(450, 600, 3)\n"
     ]
    }
   ],
   "source": [
    "image_sample = cv2.imread(\"../input/skin-cancer-mnist-ham10000/HAM10000_images_part_1/ISIC_0027269.jpg\")\n",
    "print(image_sample.shape)"
   ]
  },
  {
   "cell_type": "code",
   "execution_count": 6,
   "metadata": {
    "execution": {
     "iopub.execute_input": "2025-08-02T15:54:39.335130Z",
     "iopub.status.busy": "2025-08-02T15:54:39.334912Z",
     "iopub.status.idle": "2025-08-02T15:54:39.387391Z",
     "shell.execute_reply": "2025-08-02T15:54:39.386623Z",
     "shell.execute_reply.started": "2025-08-02T15:54:39.335109Z"
    },
    "trusted": true
   },
   "outputs": [
    {
     "data": {
      "text/plain": [
       "False    5514\n",
       "True     4501\n",
       "Name: has_duplicate, dtype: int64"
      ]
     },
     "execution_count": 6,
     "metadata": {},
     "output_type": "execute_result"
    }
   ],
   "source": [
    "#Ajout de colonne pour savoir si elle a des doublons\n",
    "lesion_id_cnt = metadata[\"lesion_id\"].value_counts()\n",
    "def check_duplicates(id):\n",
    "    \n",
    "    if lesion_id_cnt[id] > 1:\n",
    "        return True\n",
    "    else:\n",
    "        return False\n",
    "\n",
    "metadata[\"has_duplicate\"] = metadata[\"lesion_id\"].map(check_duplicates)\n",
    "metadata[\"has_duplicate\"].value_counts()"
   ]
  },
  {
   "cell_type": "code",
   "execution_count": 7,
   "metadata": {
    "execution": {
     "iopub.execute_input": "2025-08-02T15:54:39.388718Z",
     "iopub.status.busy": "2025-08-02T15:54:39.388398Z",
     "iopub.status.idle": "2025-08-02T15:54:42.328632Z",
     "shell.execute_reply": "2025-08-02T15:54:42.327829Z",
     "shell.execute_reply.started": "2025-08-02T15:54:39.388682Z"
    },
    "trusted": true
   },
   "outputs": [
    {
     "data": {
      "text/html": [
       "<div>\n",
       "<style scoped>\n",
       "    .dataframe tbody tr th:only-of-type {\n",
       "        vertical-align: middle;\n",
       "    }\n",
       "\n",
       "    .dataframe tbody tr th {\n",
       "        vertical-align: top;\n",
       "    }\n",
       "\n",
       "    .dataframe thead th {\n",
       "        text-align: right;\n",
       "    }\n",
       "</style>\n",
       "<table border=\"1\" class=\"dataframe\">\n",
       "  <thead>\n",
       "    <tr style=\"text-align: right;\">\n",
       "      <th></th>\n",
       "      <th>lesion_id</th>\n",
       "      <th>image_id</th>\n",
       "      <th>dx</th>\n",
       "      <th>dx_type</th>\n",
       "      <th>age</th>\n",
       "      <th>sex</th>\n",
       "      <th>localization</th>\n",
       "      <th>has_duplicate</th>\n",
       "      <th>folder</th>\n",
       "    </tr>\n",
       "    <tr>\n",
       "      <th>image_id</th>\n",
       "      <th></th>\n",
       "      <th></th>\n",
       "      <th></th>\n",
       "      <th></th>\n",
       "      <th></th>\n",
       "      <th></th>\n",
       "      <th></th>\n",
       "      <th></th>\n",
       "      <th></th>\n",
       "    </tr>\n",
       "  </thead>\n",
       "  <tbody>\n",
       "    <tr>\n",
       "      <th>ISIC_0027419</th>\n",
       "      <td>HAM_0000118</td>\n",
       "      <td>ISIC_0027419</td>\n",
       "      <td>bkl</td>\n",
       "      <td>histo</td>\n",
       "      <td>80.0</td>\n",
       "      <td>male</td>\n",
       "      <td>scalp</td>\n",
       "      <td>True</td>\n",
       "      <td>1</td>\n",
       "    </tr>\n",
       "    <tr>\n",
       "      <th>ISIC_0025030</th>\n",
       "      <td>HAM_0000118</td>\n",
       "      <td>ISIC_0025030</td>\n",
       "      <td>bkl</td>\n",
       "      <td>histo</td>\n",
       "      <td>80.0</td>\n",
       "      <td>male</td>\n",
       "      <td>scalp</td>\n",
       "      <td>True</td>\n",
       "      <td>1</td>\n",
       "    </tr>\n",
       "    <tr>\n",
       "      <th>ISIC_0026769</th>\n",
       "      <td>HAM_0002730</td>\n",
       "      <td>ISIC_0026769</td>\n",
       "      <td>bkl</td>\n",
       "      <td>histo</td>\n",
       "      <td>80.0</td>\n",
       "      <td>male</td>\n",
       "      <td>scalp</td>\n",
       "      <td>True</td>\n",
       "      <td>1</td>\n",
       "    </tr>\n",
       "    <tr>\n",
       "      <th>ISIC_0025661</th>\n",
       "      <td>HAM_0002730</td>\n",
       "      <td>ISIC_0025661</td>\n",
       "      <td>bkl</td>\n",
       "      <td>histo</td>\n",
       "      <td>80.0</td>\n",
       "      <td>male</td>\n",
       "      <td>scalp</td>\n",
       "      <td>True</td>\n",
       "      <td>1</td>\n",
       "    </tr>\n",
       "    <tr>\n",
       "      <th>ISIC_0031633</th>\n",
       "      <td>HAM_0001466</td>\n",
       "      <td>ISIC_0031633</td>\n",
       "      <td>bkl</td>\n",
       "      <td>histo</td>\n",
       "      <td>75.0</td>\n",
       "      <td>male</td>\n",
       "      <td>ear</td>\n",
       "      <td>True</td>\n",
       "      <td>2</td>\n",
       "    </tr>\n",
       "  </tbody>\n",
       "</table>\n",
       "</div>"
      ],
      "text/plain": [
       "                lesion_id      image_id   dx dx_type   age   sex localization  \\\n",
       "image_id                                                                        \n",
       "ISIC_0027419  HAM_0000118  ISIC_0027419  bkl   histo  80.0  male        scalp   \n",
       "ISIC_0025030  HAM_0000118  ISIC_0025030  bkl   histo  80.0  male        scalp   \n",
       "ISIC_0026769  HAM_0002730  ISIC_0026769  bkl   histo  80.0  male        scalp   \n",
       "ISIC_0025661  HAM_0002730  ISIC_0025661  bkl   histo  80.0  male        scalp   \n",
       "ISIC_0031633  HAM_0001466  ISIC_0031633  bkl   histo  75.0  male          ear   \n",
       "\n",
       "              has_duplicate folder  \n",
       "image_id                            \n",
       "ISIC_0027419           True      1  \n",
       "ISIC_0025030           True      1  \n",
       "ISIC_0026769           True      1  \n",
       "ISIC_0025661           True      1  \n",
       "ISIC_0031633           True      2  "
      ]
     },
     "execution_count": 7,
     "metadata": {},
     "output_type": "execute_result"
    }
   ],
   "source": [
    "image_folder_1 = \"../input/skin-cancer-mnist-ham10000/HAM10000_images_part_1\"\n",
    "image_folder_2 = \"../input/skin-cancer-mnist-ham10000/HAM10000_images_part_2\"\n",
    "metadata[\"folder\"] = 0\n",
    "metadata.set_index(\"image_id\", drop=False, inplace=True)\n",
    "\n",
    "for image in os.listdir(image_folder_1):\n",
    "    image_id = image.split(\".\")[0]\n",
    "    metadata.loc[image_id, \"folder\"] = \"1\"\n",
    "\n",
    "for image in os.listdir(image_folder_2):\n",
    "    image_id = image.split(\".\")[0]\n",
    "    metadata.loc[image_id, \"folder\"] = \"2\"\n",
    "metadata.head()    "
   ]
  },
  {
   "cell_type": "markdown",
   "metadata": {},
   "source": [
    "Diviser les données\n"
   ]
  },
  {
   "cell_type": "code",
   "execution_count": 8,
   "metadata": {
    "execution": {
     "iopub.execute_input": "2025-08-02T15:54:42.330555Z",
     "iopub.status.busy": "2025-08-02T15:54:42.330191Z",
     "iopub.status.idle": "2025-08-02T15:54:42.361260Z",
     "shell.execute_reply": "2025-08-02T15:54:42.360458Z",
     "shell.execute_reply.started": "2025-08-02T15:54:42.330517Z"
    },
    "trusted": true
   },
   "outputs": [
    {
     "name": "stdout",
     "output_type": "stream",
     "text": [
      "Train: 0.801697453819271\n",
      "Validation: 0.09915127309036445\n",
      "Test: 0.09915127309036445\n"
     ]
    }
   ],
   "source": [
    "# diviser en 3 training/validation/test datasets on divise les données à 80% -10% -10%.\n",
    "data_train_no_dup, data_val = train_test_split(metadata[metadata[\"has_duplicate\"] == False], test_size=0.36, stratify=metadata[metadata[\"has_duplicate\"] == False][\"dx\"]) # 36% of the data with no duplicates is roughly 20% of the total\n",
    "data_train = pd.concat((data_train_no_dup, metadata[metadata[\"has_duplicate\"] == True]), axis=0)\n",
    "data_val, data_test = train_test_split(data_val, test_size=0.5, stratify=data_val[\"dx\"])\n",
    "print(\"Train: \" + str(data_train.shape[0] / metadata.shape[0]))\n",
    "print(\"Validation: \" + str(data_val.shape[0] / metadata.shape[0]))\n",
    "print(\"Test: \" + str(data_test.shape[0] / metadata.shape[0]))\n",
    "val_len = data_val.shape[0]\n",
    "test_len = data_test.shape[0]"
   ]
  },
  {
   "cell_type": "code",
   "execution_count": 9,
   "metadata": {
    "execution": {
     "iopub.execute_input": "2025-08-02T15:54:42.362598Z",
     "iopub.status.busy": "2025-08-02T15:54:42.362342Z",
     "iopub.status.idle": "2025-08-02T15:54:42.372711Z",
     "shell.execute_reply": "2025-08-02T15:54:42.371652Z",
     "shell.execute_reply.started": "2025-08-02T15:54:42.362572Z"
    },
    "trusted": true
   },
   "outputs": [],
   "source": [
    "base_dir = \"base_dir\"\n",
    "os.mkdir(base_dir)\n",
    "\n",
    "train_dir = os.path.join(base_dir, \"image_train\")\n",
    "os.mkdir(train_dir)\n",
    "\n",
    "val_dir = os.path.join(base_dir, \"image_val\")\n",
    "os.mkdir(val_dir)\n",
    "\n",
    "test_dir = os.path.join(base_dir, \"image_test\")\n",
    "os.mkdir(test_dir)\n",
    "\n",
    "labels = list(metadata[\"dx\"].unique())\n",
    "\n",
    "for label in labels:\n",
    "    label_path_train = os.path.join(train_dir, label)\n",
    "    os.mkdir(label_path_train)\n",
    "    label_path_val = os.path.join(val_dir, label)\n",
    "    os.mkdir(label_path_val)\n",
    "    label_path_test = os.path.join(test_dir, label)\n",
    "    os.mkdir(label_path_test)"
   ]
  },
  {
   "cell_type": "code",
   "execution_count": 10,
   "metadata": {
    "execution": {
     "iopub.execute_input": "2025-08-02T15:54:42.374556Z",
     "iopub.status.busy": "2025-08-02T15:54:42.374135Z",
     "iopub.status.idle": "2025-08-02T15:55:37.603018Z",
     "shell.execute_reply": "2025-08-02T15:55:37.602326Z",
     "shell.execute_reply.started": "2025-08-02T15:54:42.374519Z"
    },
    "trusted": true
   },
   "outputs": [],
   "source": [
    "#Copie les images dans le nouveau répertoire.\n",
    "image_dir = \"../input/skin-cancer-mnist-ham10000/HAM10000_images_part_\"\n",
    "\n",
    "for i in range(data_train.shape[0]):\n",
    "    image_name = data_train[\"image_id\"][i] + \".jpg\"\n",
    "    src_dir = os.path.join(image_dir + data_train[\"folder\"][i], image_name)\n",
    "    dst_dir = os.path.join(train_dir, data_train[\"dx\"][i], image_name)\n",
    "    shutil.copyfile(src_dir, dst_dir)\n",
    "\n",
    "for i in range(data_val.shape[0]):\n",
    "    image_name = data_val[\"image_id\"][i] + \".jpg\"\n",
    "    src_dir = os.path.join(image_dir + data_val[\"folder\"][i], image_name)\n",
    "    dst_dir = os.path.join(val_dir, data_val[\"dx\"][i], image_name)\n",
    "    shutil.copyfile(src_dir, dst_dir)\n",
    "for i in range(data_test.shape[0]):\n",
    "    image_name = data_test[\"image_id\"][i] + \".jpg\"\n",
    "    src_dir = os.path.join(image_dir + data_test[\"folder\"][i], image_name)\n",
    "    dst_dir = os.path.join(test_dir, data_test[\"dx\"][i], image_name)\n",
    "    shutil.copyfile(src_dir, dst_dir)    "
   ]
  },
  {
   "cell_type": "code",
   "execution_count": 11,
   "metadata": {
    "execution": {
     "iopub.execute_input": "2025-08-02T15:55:37.604392Z",
     "iopub.status.busy": "2025-08-02T15:55:37.604109Z",
     "iopub.status.idle": "2025-08-02T15:55:37.622059Z",
     "shell.execute_reply": "2025-08-02T15:55:37.621309Z",
     "shell.execute_reply.started": "2025-08-02T15:55:37.604365Z"
    },
    "trusted": true
   },
   "outputs": [
    {
     "name": "stdout",
     "output_type": "stream",
     "text": [
      "bkl train: 940\n",
      "nv train: 5115\n",
      "df train: 101\n",
      "mel train: 1030\n",
      "vasc train: 119\n",
      "bcc train: 451\n",
      "akiec train: 273\n",
      "\n",
      "\n",
      "bkl val: 80\n",
      "nv val: 795\n",
      "df val: 7\n",
      "mel val: 41\n",
      "vasc val: 12\n",
      "bcc val: 31\n",
      "akiec val: 27\n",
      "\n",
      "\n",
      "bkl val: 79\n",
      "nv val: 795\n",
      "df val: 7\n",
      "mel val: 42\n",
      "vasc val: 11\n",
      "bcc val: 32\n",
      "akiec val: 27\n"
     ]
    }
   ],
   "source": [
    "#Vérification des proportions de chaque étiquette dans chaque ensemble de données\n",
    "for label in labels:\n",
    "    print(label + \" train: \" + str(len(os.listdir(os.path.join(train_dir, label)))))\n",
    "print(\"\\n\")\n",
    "for label in labels:\n",
    "    print(label + \" val: \" + str(len(os.listdir(os.path.join(val_dir, label)))))\n",
    "print(\"\\n\")\n",
    "for label in labels:\n",
    "    print(label + \" val: \" + str(len(os.listdir(os.path.join(test_dir, label)))))"
   ]
  },
  {
   "cell_type": "code",
   "execution_count": 12,
   "metadata": {
    "execution": {
     "iopub.execute_input": "2025-08-02T15:55:37.623300Z",
     "iopub.status.busy": "2025-08-02T15:55:37.623042Z",
     "iopub.status.idle": "2025-08-02T15:55:39.192660Z",
     "shell.execute_reply": "2025-08-02T15:55:39.191955Z",
     "shell.execute_reply.started": "2025-08-02T15:55:37.623260Z"
    },
    "trusted": true
   },
   "outputs": [
    {
     "data": {
      "text/plain": [
       "88"
      ]
     },
     "execution_count": 12,
     "metadata": {},
     "output_type": "execute_result"
    }
   ],
   "source": [
    "#Suppression des données redondantes.\n",
    "del data_train_no_dup, metadata\n",
    "gc.collect()"
   ]
  },
  {
   "cell_type": "markdown",
   "metadata": {},
   "source": [
    "# Augment the Data"
   ]
  },
  {
   "cell_type": "code",
   "execution_count": null,
   "metadata": {
    "execution": {
     "iopub.execute_input": "2025-08-02T15:55:39.194212Z",
     "iopub.status.busy": "2025-08-02T15:55:39.193965Z"
    },
    "trusted": true
   },
   "outputs": [
    {
     "name": "stdout",
     "output_type": "stream",
     "text": [
      "Found 940 images belonging to 1 classes.\n",
      "Found 5115 images belonging to 1 classes.\n",
      "Found 101 images belonging to 1 classes.\n",
      "Found 1030 images belonging to 1 classes.\n"
     ]
    }
   ],
   "source": [
    "data_gen_param = {\n",
    "    \"rotation_range\": 180,\n",
    "    \"width_shift_range\": 0.1,\n",
    "    \"height_shift_range\": 0.1,\n",
    "    \"zoom_range\": 0.1,\n",
    "    \"horizontal_flip\": True,\n",
    "    \"vertical_flip\": True\n",
    "}\n",
    "data_generator = ImageDataGenerator(**data_gen_param)\n",
    "num_images_each_label = 6000\n",
    "\n",
    "aug_dir2 = os.path.join(base_dir, \"aug_dir2\")\n",
    "os.mkdir(aug_dir2)\n",
    "for label in labels:\n",
    "    \n",
    "    img_dir = os.path.join(aug_dir2, \"aug_img\")\n",
    "    os.mkdir(img_dir)\n",
    "    \n",
    "    src_dir_label = os.path.join(train_dir, label)\n",
    "    for image_name in os.listdir(src_dir_label):\n",
    "        shutil.copy(os.path.join(src_dir_label, image_name), os.path.join(img_dir, image_name))\n",
    "    \n",
    "    batch_size = 32\n",
    "    data_flow_param = {\n",
    "        \"directory\": aug_dir2,\n",
    "        \"color_mode\": \"rgb\",\n",
    "        \"batch_size\": batch_size,\n",
    "        \"shuffle\": True,\n",
    "        \"save_to_dir\": os.path.join(train_dir, label),\n",
    "        \"save_format\": \"jpg\"\n",
    "    }\n",
    "    aug_data_gen = data_generator.flow_from_directory(**data_flow_param)\n",
    "    num_img_aug = num_images_each_label - len(os.listdir(os.path.join(train_dir, label)))\n",
    "    num_batch = int(num_img_aug / batch_size)\n",
    "    \n",
    "    for i in range(0, num_batch):\n",
    "        next(aug_data_gen)\n",
    "    \n",
    "    shutil.rmtree(img_dir)"
   ]
  },
  {
   "cell_type": "code",
   "execution_count": null,
   "metadata": {
    "trusted": true
   },
   "outputs": [],
   "source": [
    "for label in labels:\n",
    "    print(label + \" train: \" + str(len(os.listdir(os.path.join(train_dir, label)))))\n",
    "print(\"\\n\")\n",
    "for label in labels:\n",
    "    print(label + \" val: \" + str(len(os.listdir(os.path.join(val_dir, label)))))"
   ]
  },
  {
   "cell_type": "markdown",
   "metadata": {},
   "source": [
    "\n",
    "# Configurer le générateur"
   ]
  },
  {
   "cell_type": "code",
   "execution_count": null,
   "metadata": {
    "trusted": true
   },
   "outputs": [],
   "source": [
    "IMAGE_SHAPE = (224, 224, 3)\n",
    "data_gen_param = {\n",
    "    \"samplewise_center\": True,\n",
    "    \"samplewise_std_normalization\": True,\n",
    "    \"rotation_range\": 180,\n",
    "    \"width_shift_range\": 0.1,\n",
    "    \"height_shift_range\": 0.1,\n",
    "    \"zoom_range\": 0.1,\n",
    "    \"horizontal_flip\": True,\n",
    "    \"vertical_flip\": True,\n",
    "    \"rescale\": 1.0 / 255\n",
    "}\n",
    "data_generator = ImageDataGenerator(**data_gen_param)\n",
    "train_flow_param = {\n",
    "    \"directory\": train_dir,\n",
    "    \"batch_size\": batch_size,\n",
    "    \"target_size\": IMAGE_SHAPE[:2],\n",
    "    \"shuffle\": True\n",
    "}\n",
    "train_flow = data_generator.flow_from_directory(**train_flow_param)\n",
    "\n",
    "val_flow_param = {\n",
    "    \"directory\": val_dir,\n",
    "    \"batch_size\": batch_size,\n",
    "    \"target_size\": IMAGE_SHAPE[:2],\n",
    "    \"shuffle\": False\n",
    "}\n",
    "val_flow = data_generator.flow_from_directory(**val_flow_param)\n",
    "\n",
    "test_flow_param = {\n",
    "    \"directory\": test_dir,\n",
    "    \"batch_size\": 1,\n",
    "    \"target_size\": IMAGE_SHAPE[:2],\n",
    "    \"shuffle\": False\n",
    "}\n",
    "test_flow = data_generator.flow_from_directory(**test_flow_param)"
   ]
  },
  {
   "cell_type": "markdown",
   "metadata": {},
   "source": [
    "# Training le Modéle"
   ]
  },
  {
   "cell_type": "code",
   "execution_count": null,
   "metadata": {
    "trusted": true
   },
   "outputs": [],
   "source": [
    "dropout_dense = 0.1\n",
    "mobilenet_model = MobileNet(input_shape=IMAGE_SHAPE, include_top=False, pooling=\"max\")\n",
    "\n",
    "model = Sequential()\n",
    "model.add(mobilenet_model)\n",
    "model.add(Dropout(dropout_dense))\n",
    "model.add(BatchNormalization())\n",
    "model.add(Dense(256, activation=\"relu\"))\n",
    "model.add(Dropout(dropout_dense))\n",
    "model.add(BatchNormalization())\n",
    "model.add(Dense(7, activation=\"softmax\"))\n",
    "\n",
    "def top_2_acc(y_true, y_pred):\n",
    "    return top_k_categorical_accuracy(y_true, y_pred, k=2)\n",
    "\n",
    "def top_3_acc(y_true, y_pred):\n",
    "    return top_k_categorical_accuracy(y_true, y_pred, k=3)\n",
    "\n",
    "model.compile(Adam(0.01), loss=\"categorical_crossentropy\", metrics=[categorical_accuracy, top_2_acc, top_3_acc])"
   ]
  },
  {
   "cell_type": "code",
   "execution_count": null,
   "metadata": {
    "trusted": true
   },
   "outputs": [],
   "source": [
    "filepath = \"model.h5\"\n",
    "\n",
    "checkpoint_param = {\n",
    "    \"filepath\": filepath,\n",
    "    \"monitor\": \"val_categorical_accuracy\",\n",
    "    \"verbose\": 1,\n",
    "    \"save_best_only\": True,\n",
    "    \"mode\": \"max\"\n",
    "}\n",
    "checkpoint = ModelCheckpoint(**checkpoint_param)\n",
    "\n",
    "lr_decay_params = {\n",
    "    \"monitor\": \"val_loss\",\n",
    "    \"factor\": 0.5,\n",
    "    \"patience\": 2,\n",
    "    \"min_lr\": 1e-5\n",
    "}\n",
    "lr_decay = ReduceLROnPlateau(**lr_decay_params)\n",
    "early_stopping = EarlyStopping(monitor=\"val_loss\", patience=4, verbose=1)\n"
   ]
  },
  {
   "cell_type": "markdown",
   "metadata": {},
   "source": [
    "Train le  modéle"
   ]
  },
  {
   "cell_type": "code",
   "execution_count": null,
   "metadata": {
    "trusted": true
   },
   "outputs": [],
   "source": [
    "fit_params = {\n",
    "    \"generator\": train_flow,\n",
    "    \"steps_per_epoch\": data_train.shape[0] // batch_size,\n",
    "    \"epochs\": 15,\n",
    "    \"verbose\": 1,\n",
    "    \"validation_data\": val_flow,\n",
    "    \"validation_steps\": data_val.shape[0] // batch_size,\n",
    "    \"callbacks\": [checkpoint, lr_decay, early_stopping]\n",
    "}\n",
    "print(\"Training the model...\")\n",
    "\n",
    "history = model.fit_generator(**fit_params)\n",
    "print(\"Done!\")"
   ]
  },
  {
   "cell_type": "code",
   "execution_count": null,
   "metadata": {},
   "outputs": [],
   "source": [
    "# Save model sau khi training xong\n",
    "import os\n",
    "\n",
    "# Tạo thư mục để lưu model nếu chưa tồn tại\n",
    "model_save_dir = \"saved_models\"\n",
    "if not os.path.exists(model_save_dir):\n",
    "    os.makedirs(model_save_dir)\n",
    "\n",
    "# Save model cuối cùng\n",
    "final_model_path = os.path.join(model_save_dir, \"final_mobilenet_skin_cancer_model.h5\")\n",
    "model.save(final_model_path)\n",
    "print(f\"Model đã được lưu tại: {final_model_path}\")\n",
    "\n",
    "# Lưu thêm model weights riêng biệt\n",
    "weights_path = os.path.join(model_save_dir, \"final_mobilenet_weights.h5\")\n",
    "model.save_weights(weights_path)\n",
    "print(f\"Model weights đã được lưu tại: {weights_path}\")\n",
    "\n",
    "# Lưu model architecture dưới dạng JSON\n",
    "import json\n",
    "model_json = model.to_json()\n",
    "json_path = os.path.join(model_save_dir, \"model_architecture.json\")\n",
    "with open(json_path, \"w\") as json_file:\n",
    "    json_file.write(model_json)\n",
    "print(f\"Model architecture đã được lưu tại: {json_path}\")"
   ]
  },
  {
   "cell_type": "markdown",
   "metadata": {},
   "source": [
    "# Evaluation du Modele"
   ]
  },
  {
   "cell_type": "code",
   "execution_count": null,
   "metadata": {
    "trusted": true
   },
   "outputs": [],
   "source": [
    "_, val_acc, val_top_2_acc, val_top_3_acc = model.evaluate_generator(val_flow, steps=len(val_flow))\n",
    "y_val_true = val_flow.classes\n",
    "y_val_pred = np.argmax(model.predict_generator(val_flow, steps=len(val_flow)), axis=1)\n",
    "val_f1_score = f1_score(y_val_true, y_val_pred, average=\"micro\")\n",
    "\n",
    "print(\"Validation accuracy: {:.4f}\".format(val_acc))\n",
    "print(\"Validation top-2 accuracy: {:.4f}\".format(val_top_2_acc))\n",
    "print(\"Validation top-3 accuracy: {:.4f}\".format(val_top_3_acc))\n",
    "print(\"Validation F1 score: {:.4f}\".format(val_f1_score))"
   ]
  },
  {
   "cell_type": "code",
   "execution_count": null,
   "metadata": {
    "trusted": true
   },
   "outputs": [],
   "source": [
    "_, test_acc, test_top_2_acc, test_top_3_acc = model.evaluate_generator(test_flow, steps=len(test_flow))\n",
    "y_test_true = test_flow.classes\n",
    "y_test_pred = np.argmax(model.predict_generator(test_flow, steps=len(test_flow)), axis=1)\n",
    "test_f1_score = f1_score(y_test_true, y_test_pred, average=\"micro\")\n",
    "\n",
    "print(\"Test accuracy: {:.4f}\".format(test_acc))\n",
    "print(\"Test top-2 accuracy: {:.4f}\".format(test_top_2_acc))\n",
    "print(\"Test top-3 accuracy: {:.4f}\".format(test_top_3_acc))\n",
    "print(\"Test F1 score: {:.4f}\".format(test_f1_score))"
   ]
  },
  {
   "cell_type": "code",
   "execution_count": null,
   "metadata": {
    "trusted": true
   },
   "outputs": [],
   "source": [
    "loss_train = history.history[\"loss\"]\n",
    "acc_train = history.history[\"categorical_accuracy\"]\n",
    "loss_val = history.history[\"val_loss\"]\n",
    "acc_val = history.history[\"val_categorical_accuracy\"]\n",
    "epochs = np.arange(1, len(loss_train) + 1)"
   ]
  },
  {
   "cell_type": "code",
   "execution_count": null,
   "metadata": {
    "trusted": true
   },
   "outputs": [],
   "source": [
    "plt.plot(epochs, acc_train, \"bo\", label=\"Training acc\")\n",
    "plt.plot(epochs, acc_val, \"b\", label=\"Validation acc\")\n",
    "plt.title(\"Accuracy\")\n",
    "plt.legend()\n",
    "plt.show()"
   ]
  },
  {
   "cell_type": "code",
   "execution_count": null,
   "metadata": {
    "trusted": true
   },
   "outputs": [],
   "source": [
    "plt.plot(epochs, loss_train, \"bo\", label=\"Training loss\")\n",
    "plt.plot(epochs, loss_val, \"b\", label=\"Validation loss\")\n",
    "plt.title(\"Losses\")\n",
    "plt.legend()\n",
    "plt.show()"
   ]
  },
  {
   "cell_type": "code",
   "execution_count": null,
   "metadata": {
    "trusted": true
   },
   "outputs": [],
   "source": [
    "\n",
    "conf_mat = confusion_matrix(y_test_true, y_test_pred)\n",
    "plt.imshow(conf_mat, interpolation=\"nearest\", cmap=plt.cm.Blues)\n",
    "plt.title(\"Confusion matrix\")\n",
    "plt.colorbar()\n",
    "tick_marks = np.arange(len(labels))\n",
    "plt.xticks(tick_marks, labels, rotation=45)\n",
    "plt.yticks(tick_marks, labels)\n",
    "plt.ylabel(\"y_true\")\n",
    "plt.xlabel(\"y_pred\")\n",
    "plt.tight_layout()"
   ]
  }
 ],
 "metadata": {
  "kaggle": {
   "accelerator": "gpu",
   "dataSources": [
    {
     "datasetId": 54339,
     "sourceId": 104884,
     "sourceType": "datasetVersion"
    }
   ],
   "dockerImageVersionId": 30043,
   "isGpuEnabled": true,
   "isInternetEnabled": true,
   "language": "python",
   "sourceType": "notebook"
  },
  "kernelspec": {
   "display_name": "Python 3",
   "language": "python",
   "name": "python3"
  },
  "language_info": {
   "codemirror_mode": {
    "name": "ipython",
    "version": 3
   },
   "file_extension": ".py",
   "mimetype": "text/x-python",
   "name": "python",
   "nbconvert_exporter": "python",
   "pygments_lexer": "ipython3",
   "version": "3.7.6"
  }
 },
 "nbformat": 4,
 "nbformat_minor": 4
}
